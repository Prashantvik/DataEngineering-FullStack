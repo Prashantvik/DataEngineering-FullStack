{
 "cells": [
  {
   "cell_type": "code",
   "execution_count": 31,
   "id": "4fcebf06",
   "metadata": {},
   "outputs": [],
   "source": [
    "# pip install alpha_vantage"
   ]
  },
  {
   "cell_type": "code",
   "execution_count": 23,
   "id": "d81fc4bc",
   "metadata": {
    "scrolled": true
   },
   "outputs": [],
   "source": [
    "import requests\n",
    "import pandas as pd\n",
    "key = \"4TDQ3TAK1A574B32\"\n",
    "from alpha_vantage.timeseries import TimeSeries\n",
    "import datetime\n",
    "\n",
    "# replace the \"demo\" apikey below with your own key from https://www.alphavantage.co/support/#api-key\n",
    "# url = 'https://www.alphavantage.co/query?function=TIME_SERIES_INTRADAY&symbol=IBM&interval=5min&apikey=4TDQ3TAK1A574B32'\n",
    "# r = requests.get(url)\n",
    "# data = r.json()\n",
    "\n",
    "# print(len(data))"
   ]
  },
  {
   "cell_type": "code",
   "execution_count": 4,
   "id": "8bb36a61",
   "metadata": {},
   "outputs": [],
   "source": [
    "ts = TimeSeries(key, output_format='pandas')\n",
    "\n",
    "#Every minute of data\n",
    "data, meta_data = ts.get_intraday(symbol='GOOGL',interval='1min', outputsize='full')"
   ]
  },
  {
   "cell_type": "code",
   "execution_count": 5,
   "id": "a4aaf4b7",
   "metadata": {},
   "outputs": [
    {
     "data": {
      "text/plain": [
       "<bound method DataFrame.info of                      1. open  2. high  3. low  4. close  5. volume\n",
       "date                                                              \n",
       "2023-08-22 19:59:00   129.02   129.04  128.90    128.92       18.0\n",
       "2023-08-22 19:58:00   128.97   128.97  128.92    128.92       52.0\n",
       "2023-08-22 19:57:00   129.05   129.08  128.92    128.97      573.0\n",
       "2023-08-22 19:56:00   129.00   129.07  129.00    129.01      322.0\n",
       "2023-08-22 19:55:00   129.04   129.04  129.00    129.00       85.0\n",
       "...                      ...      ...     ...       ...        ...\n",
       "2023-07-25 04:04:00   122.15   122.23  122.15    122.16      188.0\n",
       "2023-07-25 04:03:00   122.20   122.20  122.15    122.15       54.0\n",
       "2023-07-25 04:02:00   122.13   122.23  121.90    122.20     3187.0\n",
       "2023-07-25 04:01:00   122.05   122.20  122.00    122.20     1198.0\n",
       "2023-07-25 04:00:00   122.00   122.03  121.88    121.90     2428.0\n",
       "\n",
       "[19304 rows x 5 columns]>"
      ]
     },
     "execution_count": 5,
     "metadata": {},
     "output_type": "execute_result"
    }
   ],
   "source": [
    "data.info"
   ]
  },
  {
   "cell_type": "code",
   "execution_count": 6,
   "id": "eb19cda9",
   "metadata": {},
   "outputs": [
    {
     "data": {
      "text/plain": [
       "(19304, 5)"
      ]
     },
     "execution_count": 6,
     "metadata": {},
     "output_type": "execute_result"
    }
   ],
   "source": [
    "data.shape"
   ]
  },
  {
   "cell_type": "code",
   "execution_count": 7,
   "id": "5a6af80b",
   "metadata": {},
   "outputs": [
    {
     "data": {
      "text/plain": [
       "{'1. Information': 'Intraday (1min) open, high, low, close prices and volume',\n",
       " '2. Symbol': 'GOOGL',\n",
       " '3. Last Refreshed': '2023-08-22 19:59:00',\n",
       " '4. Interval': '1min',\n",
       " '5. Output Size': 'Full size',\n",
       " '6. Time Zone': 'US/Eastern'}"
      ]
     },
     "execution_count": 7,
     "metadata": {},
     "output_type": "execute_result"
    }
   ],
   "source": [
    "meta_data"
   ]
  },
  {
   "cell_type": "code",
   "execution_count": 10,
   "id": "71934f57",
   "metadata": {},
   "outputs": [],
   "source": [
    "# Extract metadata\n",
    "meta_data\n",
    "metadata_df = pd.DataFrame.from_dict(meta_data, orient='index', columns=['Value'])"
   ]
  },
  {
   "cell_type": "code",
   "execution_count": 11,
   "id": "30caf10d",
   "metadata": {},
   "outputs": [
    {
     "data": {
      "text/html": [
       "<div>\n",
       "<style scoped>\n",
       "    .dataframe tbody tr th:only-of-type {\n",
       "        vertical-align: middle;\n",
       "    }\n",
       "\n",
       "    .dataframe tbody tr th {\n",
       "        vertical-align: top;\n",
       "    }\n",
       "\n",
       "    .dataframe thead th {\n",
       "        text-align: right;\n",
       "    }\n",
       "</style>\n",
       "<table border=\"1\" class=\"dataframe\">\n",
       "  <thead>\n",
       "    <tr style=\"text-align: right;\">\n",
       "      <th></th>\n",
       "      <th>Value</th>\n",
       "    </tr>\n",
       "  </thead>\n",
       "  <tbody>\n",
       "    <tr>\n",
       "      <th>1. Information</th>\n",
       "      <td>Intraday (1min) open, high, low, close prices ...</td>\n",
       "    </tr>\n",
       "    <tr>\n",
       "      <th>2. Symbol</th>\n",
       "      <td>GOOGL</td>\n",
       "    </tr>\n",
       "    <tr>\n",
       "      <th>3. Last Refreshed</th>\n",
       "      <td>2023-08-22 19:59:00</td>\n",
       "    </tr>\n",
       "    <tr>\n",
       "      <th>4. Interval</th>\n",
       "      <td>1min</td>\n",
       "    </tr>\n",
       "    <tr>\n",
       "      <th>5. Output Size</th>\n",
       "      <td>Full size</td>\n",
       "    </tr>\n",
       "    <tr>\n",
       "      <th>6. Time Zone</th>\n",
       "      <td>US/Eastern</td>\n",
       "    </tr>\n",
       "  </tbody>\n",
       "</table>\n",
       "</div>"
      ],
      "text/plain": [
       "                                                               Value\n",
       "1. Information     Intraday (1min) open, high, low, close prices ...\n",
       "2. Symbol                                                      GOOGL\n",
       "3. Last Refreshed                                2023-08-22 19:59:00\n",
       "4. Interval                                                     1min\n",
       "5. Output Size                                             Full size\n",
       "6. Time Zone                                              US/Eastern"
      ]
     },
     "execution_count": 11,
     "metadata": {},
     "output_type": "execute_result"
    }
   ],
   "source": [
    "metadata_df"
   ]
  },
  {
   "cell_type": "code",
   "execution_count": 12,
   "id": "2176d63a",
   "metadata": {},
   "outputs": [
    {
     "name": "stdout",
     "output_type": "stream",
     "text": [
      "Metadata DataFrame:\n",
      "                                                               Value\n",
      "1. Information     Intraday (1min) open, high, low, close prices ...\n",
      "2. Symbol                                                      GOOGL\n",
      "3. Last Refreshed                                2023-08-22 19:59:00\n",
      "4. Interval                                                     1min\n",
      "5. Output Size                                             Full size\n",
      "6. Time Zone                                              US/Eastern\n"
     ]
    }
   ],
   "source": [
    "# Convert columns to appropriate data types\n",
    "numeric_columns = ['1. open', '2. high', '3. low', '4. close', '5. volume']\n",
    "data[numeric_columns] = data[numeric_columns].apply(pd.to_numeric)\n",
    "\n",
    "# Print the DataFrames\n",
    "print(\"Metadata DataFrame:\")\n",
    "print(metadata_df)\n"
   ]
  },
  {
   "cell_type": "code",
   "execution_count": 13,
   "id": "676864d7",
   "metadata": {},
   "outputs": [],
   "source": [
    "cols = [\"open\", \"high\", \"low\", \"close\", \"volume\"]\n",
    "\n",
    "data.columns = cols "
   ]
  },
  {
   "cell_type": "code",
   "execution_count": 68,
   "id": "a316c9ce",
   "metadata": {},
   "outputs": [
    {
     "name": "stdout",
     "output_type": "stream",
     "text": [
      "\n",
      "Time Series DataFrame:\n",
      "                       open     high     low    close  volume\n",
      "Timestamp                                                    \n",
      "2023-08-18 19:55:00  141.48  141.500  141.48  141.500      94\n",
      "2023-08-18 19:40:00  141.30  141.300  141.30  141.300       7\n",
      "2023-08-18 19:30:00  141.41  141.410  141.41  141.410       9\n",
      "2023-08-18 19:20:00  141.41  141.410  141.41  141.410       6\n",
      "2023-08-18 19:15:00  141.28  141.280  141.28  141.280       7\n",
      "...                     ...      ...     ...      ...     ...\n",
      "2023-08-18 10:30:00  140.34  140.540  140.31  140.480   37128\n",
      "2023-08-18 10:25:00  140.63  140.640  140.32  140.360   44506\n",
      "2023-08-18 10:20:00  140.56  140.680  140.56  140.640   29379\n",
      "2023-08-18 10:15:00  140.63  140.670  140.52  140.600   32233\n",
      "2023-08-18 10:10:00  140.65  140.705  140.54  140.631   36215\n",
      "\n",
      "[100 rows x 5 columns]\n"
     ]
    }
   ],
   "source": [
    "# Print the DataFrames\n",
    "print(\"\\nTime Series DataFrame:\")\n",
    "print(time_series_df)"
   ]
  },
  {
   "cell_type": "code",
   "execution_count": 14,
   "id": "cb948705",
   "metadata": {},
   "outputs": [
    {
     "data": {
      "text/plain": [
       "(6, 1)"
      ]
     },
     "execution_count": 14,
     "metadata": {},
     "output_type": "execute_result"
    }
   ],
   "source": [
    "metadata_df.shape"
   ]
  },
  {
   "cell_type": "code",
   "execution_count": 15,
   "id": "4599a563",
   "metadata": {},
   "outputs": [
    {
     "data": {
      "text/plain": [
       "(19304, 5)"
      ]
     },
     "execution_count": 15,
     "metadata": {},
     "output_type": "execute_result"
    }
   ],
   "source": [
    "data.shape"
   ]
  },
  {
   "cell_type": "code",
   "execution_count": 73,
   "id": "b37cbfb1",
   "metadata": {
    "collapsed": true
   },
   "outputs": [
    {
     "name": "stdout",
     "output_type": "stream",
     "text": [
      "<class 'pandas.core.frame.DataFrame'>\n",
      "DatetimeIndex: 19358 entries, 2023-08-18 19:59:00 to 2023-07-21 04:00:00\n",
      "Data columns (total 5 columns):\n",
      " #   Column     Non-Null Count  Dtype  \n",
      "---  ------     --------------  -----  \n",
      " 0   1. open    19358 non-null  float64\n",
      " 1   2. high    19358 non-null  float64\n",
      " 2   3. low     19358 non-null  float64\n",
      " 3   4. close   19358 non-null  float64\n",
      " 4   5. volume  19358 non-null  float64\n",
      "dtypes: float64(5)\n",
      "memory usage: 907.4 KB\n"
     ]
    }
   ],
   "source": [
    "data1.info()"
   ]
  },
  {
   "cell_type": "code",
   "execution_count": 74,
   "id": "bb73f525",
   "metadata": {},
   "outputs": [
    {
     "data": {
      "text/plain": [
       "(19358, 5)"
      ]
     },
     "execution_count": 74,
     "metadata": {},
     "output_type": "execute_result"
    }
   ],
   "source": [
    "data1.shape"
   ]
  },
  {
   "cell_type": "code",
   "execution_count": 16,
   "id": "03a455e2",
   "metadata": {},
   "outputs": [
    {
     "data": {
      "text/html": [
       "<div>\n",
       "<style scoped>\n",
       "    .dataframe tbody tr th:only-of-type {\n",
       "        vertical-align: middle;\n",
       "    }\n",
       "\n",
       "    .dataframe tbody tr th {\n",
       "        vertical-align: top;\n",
       "    }\n",
       "\n",
       "    .dataframe thead th {\n",
       "        text-align: right;\n",
       "    }\n",
       "</style>\n",
       "<table border=\"1\" class=\"dataframe\">\n",
       "  <thead>\n",
       "    <tr style=\"text-align: right;\">\n",
       "      <th></th>\n",
       "      <th>open</th>\n",
       "      <th>high</th>\n",
       "      <th>low</th>\n",
       "      <th>close</th>\n",
       "      <th>volume</th>\n",
       "    </tr>\n",
       "    <tr>\n",
       "      <th>date</th>\n",
       "      <th></th>\n",
       "      <th></th>\n",
       "      <th></th>\n",
       "      <th></th>\n",
       "      <th></th>\n",
       "    </tr>\n",
       "  </thead>\n",
       "  <tbody>\n",
       "    <tr>\n",
       "      <th>2023-08-22 19:59:00</th>\n",
       "      <td>129.02</td>\n",
       "      <td>129.04</td>\n",
       "      <td>128.90</td>\n",
       "      <td>128.92</td>\n",
       "      <td>18.0</td>\n",
       "    </tr>\n",
       "    <tr>\n",
       "      <th>2023-08-22 19:58:00</th>\n",
       "      <td>128.97</td>\n",
       "      <td>128.97</td>\n",
       "      <td>128.92</td>\n",
       "      <td>128.92</td>\n",
       "      <td>52.0</td>\n",
       "    </tr>\n",
       "    <tr>\n",
       "      <th>2023-08-22 19:57:00</th>\n",
       "      <td>129.05</td>\n",
       "      <td>129.08</td>\n",
       "      <td>128.92</td>\n",
       "      <td>128.97</td>\n",
       "      <td>573.0</td>\n",
       "    </tr>\n",
       "    <tr>\n",
       "      <th>2023-08-22 19:56:00</th>\n",
       "      <td>129.00</td>\n",
       "      <td>129.07</td>\n",
       "      <td>129.00</td>\n",
       "      <td>129.01</td>\n",
       "      <td>322.0</td>\n",
       "    </tr>\n",
       "    <tr>\n",
       "      <th>2023-08-22 19:55:00</th>\n",
       "      <td>129.04</td>\n",
       "      <td>129.04</td>\n",
       "      <td>129.00</td>\n",
       "      <td>129.00</td>\n",
       "      <td>85.0</td>\n",
       "    </tr>\n",
       "  </tbody>\n",
       "</table>\n",
       "</div>"
      ],
      "text/plain": [
       "                       open    high     low   close  volume\n",
       "date                                                       \n",
       "2023-08-22 19:59:00  129.02  129.04  128.90  128.92    18.0\n",
       "2023-08-22 19:58:00  128.97  128.97  128.92  128.92    52.0\n",
       "2023-08-22 19:57:00  129.05  129.08  128.92  128.97   573.0\n",
       "2023-08-22 19:56:00  129.00  129.07  129.00  129.01   322.0\n",
       "2023-08-22 19:55:00  129.04  129.04  129.00  129.00    85.0"
      ]
     },
     "execution_count": 16,
     "metadata": {},
     "output_type": "execute_result"
    }
   ],
   "source": [
    "data.head(5)"
   ]
  },
  {
   "cell_type": "code",
   "execution_count": 20,
   "id": "42b08fb9",
   "metadata": {},
   "outputs": [
    {
     "data": {
      "text/html": [
       "<div>\n",
       "<style scoped>\n",
       "    .dataframe tbody tr th:only-of-type {\n",
       "        vertical-align: middle;\n",
       "    }\n",
       "\n",
       "    .dataframe tbody tr th {\n",
       "        vertical-align: top;\n",
       "    }\n",
       "\n",
       "    .dataframe thead th {\n",
       "        text-align: right;\n",
       "    }\n",
       "</style>\n",
       "<table border=\"1\" class=\"dataframe\">\n",
       "  <thead>\n",
       "    <tr style=\"text-align: right;\">\n",
       "      <th></th>\n",
       "      <th>open</th>\n",
       "      <th>high</th>\n",
       "      <th>low</th>\n",
       "      <th>close</th>\n",
       "      <th>volume</th>\n",
       "    </tr>\n",
       "    <tr>\n",
       "      <th>date</th>\n",
       "      <th></th>\n",
       "      <th></th>\n",
       "      <th></th>\n",
       "      <th></th>\n",
       "      <th></th>\n",
       "    </tr>\n",
       "  </thead>\n",
       "  <tbody>\n",
       "    <tr>\n",
       "      <th>2023-07-25 04:00:00</th>\n",
       "      <td>122.00</td>\n",
       "      <td>122.03</td>\n",
       "      <td>121.88</td>\n",
       "      <td>121.90</td>\n",
       "      <td>2428.0</td>\n",
       "    </tr>\n",
       "    <tr>\n",
       "      <th>2023-07-25 04:01:00</th>\n",
       "      <td>122.05</td>\n",
       "      <td>122.20</td>\n",
       "      <td>122.00</td>\n",
       "      <td>122.20</td>\n",
       "      <td>1198.0</td>\n",
       "    </tr>\n",
       "    <tr>\n",
       "      <th>2023-07-25 04:02:00</th>\n",
       "      <td>122.13</td>\n",
       "      <td>122.23</td>\n",
       "      <td>121.90</td>\n",
       "      <td>122.20</td>\n",
       "      <td>3187.0</td>\n",
       "    </tr>\n",
       "    <tr>\n",
       "      <th>2023-07-25 04:03:00</th>\n",
       "      <td>122.20</td>\n",
       "      <td>122.20</td>\n",
       "      <td>122.15</td>\n",
       "      <td>122.15</td>\n",
       "      <td>54.0</td>\n",
       "    </tr>\n",
       "    <tr>\n",
       "      <th>2023-07-25 04:04:00</th>\n",
       "      <td>122.15</td>\n",
       "      <td>122.23</td>\n",
       "      <td>122.15</td>\n",
       "      <td>122.16</td>\n",
       "      <td>188.0</td>\n",
       "    </tr>\n",
       "  </tbody>\n",
       "</table>\n",
       "</div>"
      ],
      "text/plain": [
       "                       open    high     low   close  volume\n",
       "date                                                       \n",
       "2023-07-25 04:00:00  122.00  122.03  121.88  121.90  2428.0\n",
       "2023-07-25 04:01:00  122.05  122.20  122.00  122.20  1198.0\n",
       "2023-07-25 04:02:00  122.13  122.23  121.90  122.20  3187.0\n",
       "2023-07-25 04:03:00  122.20  122.20  122.15  122.15    54.0\n",
       "2023-07-25 04:04:00  122.15  122.23  122.15  122.16   188.0"
      ]
     },
     "execution_count": 20,
     "metadata": {},
     "output_type": "execute_result"
    }
   ],
   "source": [
    "data = data.sort_values(by='date', ascending=True).copy()\n",
    "data.head(5)"
   ]
  },
  {
   "cell_type": "code",
   "execution_count": 21,
   "id": "b3e568f0",
   "metadata": {
    "scrolled": true
   },
   "outputs": [
    {
     "data": {
      "text/html": [
       "<div>\n",
       "<style scoped>\n",
       "    .dataframe tbody tr th:only-of-type {\n",
       "        vertical-align: middle;\n",
       "    }\n",
       "\n",
       "    .dataframe tbody tr th {\n",
       "        vertical-align: top;\n",
       "    }\n",
       "\n",
       "    .dataframe thead th {\n",
       "        text-align: right;\n",
       "    }\n",
       "</style>\n",
       "<table border=\"1\" class=\"dataframe\">\n",
       "  <thead>\n",
       "    <tr style=\"text-align: right;\">\n",
       "      <th></th>\n",
       "      <th>open</th>\n",
       "      <th>high</th>\n",
       "      <th>low</th>\n",
       "      <th>close</th>\n",
       "      <th>volume</th>\n",
       "    </tr>\n",
       "    <tr>\n",
       "      <th>date</th>\n",
       "      <th></th>\n",
       "      <th></th>\n",
       "      <th></th>\n",
       "      <th></th>\n",
       "      <th></th>\n",
       "    </tr>\n",
       "  </thead>\n",
       "  <tbody>\n",
       "    <tr>\n",
       "      <th>2023-08-22 19:55:00</th>\n",
       "      <td>129.04</td>\n",
       "      <td>129.04</td>\n",
       "      <td>129.00</td>\n",
       "      <td>129.00</td>\n",
       "      <td>85.0</td>\n",
       "    </tr>\n",
       "    <tr>\n",
       "      <th>2023-08-22 19:56:00</th>\n",
       "      <td>129.00</td>\n",
       "      <td>129.07</td>\n",
       "      <td>129.00</td>\n",
       "      <td>129.01</td>\n",
       "      <td>322.0</td>\n",
       "    </tr>\n",
       "    <tr>\n",
       "      <th>2023-08-22 19:57:00</th>\n",
       "      <td>129.05</td>\n",
       "      <td>129.08</td>\n",
       "      <td>128.92</td>\n",
       "      <td>128.97</td>\n",
       "      <td>573.0</td>\n",
       "    </tr>\n",
       "    <tr>\n",
       "      <th>2023-08-22 19:58:00</th>\n",
       "      <td>128.97</td>\n",
       "      <td>128.97</td>\n",
       "      <td>128.92</td>\n",
       "      <td>128.92</td>\n",
       "      <td>52.0</td>\n",
       "    </tr>\n",
       "    <tr>\n",
       "      <th>2023-08-22 19:59:00</th>\n",
       "      <td>129.02</td>\n",
       "      <td>129.04</td>\n",
       "      <td>128.90</td>\n",
       "      <td>128.92</td>\n",
       "      <td>18.0</td>\n",
       "    </tr>\n",
       "  </tbody>\n",
       "</table>\n",
       "</div>"
      ],
      "text/plain": [
       "                       open    high     low   close  volume\n",
       "date                                                       \n",
       "2023-08-22 19:55:00  129.04  129.04  129.00  129.00    85.0\n",
       "2023-08-22 19:56:00  129.00  129.07  129.00  129.01   322.0\n",
       "2023-08-22 19:57:00  129.05  129.08  128.92  128.97   573.0\n",
       "2023-08-22 19:58:00  128.97  128.97  128.92  128.92    52.0\n",
       "2023-08-22 19:59:00  129.02  129.04  128.90  128.92    18.0"
      ]
     },
     "execution_count": 21,
     "metadata": {},
     "output_type": "execute_result"
    }
   ],
   "source": [
    "data.tail(5)"
   ]
  },
  {
   "cell_type": "code",
   "execution_count": 29,
   "id": "6938e6a7",
   "metadata": {},
   "outputs": [
    {
     "data": {
      "text/plain": [
       "Index(['open', 'high', 'low', 'close', 'volume'], dtype='object')"
      ]
     },
     "execution_count": 29,
     "metadata": {},
     "output_type": "execute_result"
    }
   ],
   "source": [
    "data.columns"
   ]
  },
  {
   "cell_type": "code",
   "execution_count": 30,
   "id": "7ca9af15",
   "metadata": {
    "scrolled": true
   },
   "outputs": [
    {
     "data": {
      "text/plain": [
       "DatetimeIndex(['2023-07-25 04:00:00', '2023-07-25 04:01:00',\n",
       "               '2023-07-25 04:02:00', '2023-07-25 04:03:00',\n",
       "               '2023-07-25 04:04:00', '2023-07-25 04:05:00',\n",
       "               '2023-07-25 04:06:00', '2023-07-25 04:07:00',\n",
       "               '2023-07-25 04:08:00', '2023-07-25 04:09:00',\n",
       "               ...\n",
       "               '2023-08-22 19:50:00', '2023-08-22 19:51:00',\n",
       "               '2023-08-22 19:52:00', '2023-08-22 19:53:00',\n",
       "               '2023-08-22 19:54:00', '2023-08-22 19:55:00',\n",
       "               '2023-08-22 19:56:00', '2023-08-22 19:57:00',\n",
       "               '2023-08-22 19:58:00', '2023-08-22 19:59:00'],\n",
       "              dtype='datetime64[ns]', name='date', length=19304, freq=None)"
      ]
     },
     "execution_count": 30,
     "metadata": {},
     "output_type": "execute_result"
    }
   ],
   "source": [
    "data.index"
   ]
  },
  {
   "cell_type": "code",
   "execution_count": 32,
   "id": "6f7e0a25",
   "metadata": {},
   "outputs": [],
   "source": [
    "# Reset the index and move it to a new column\n",
    "data.reset_index(inplace=True)\n",
    "data.rename(columns={\"index\": \"DateTime\"}, inplace=True)"
   ]
  },
  {
   "cell_type": "code",
   "execution_count": 40,
   "id": "59acd73f",
   "metadata": {},
   "outputs": [],
   "source": [
    "# Extract components\n",
    "data['day'] = data[\"date\"].dt.day\n",
    "data['year'] = data[\"date\"].dt.year\n",
    "data['month'] = data[\"date\"].dt.month\n",
    "data['hour'] = data[\"date\"].dt.hour\n",
    "data['minute'] = data[\"date\"].dt.minute"
   ]
  },
  {
   "cell_type": "code",
   "execution_count": 42,
   "id": "6fccf679",
   "metadata": {},
   "outputs": [
    {
     "data": {
      "text/html": [
       "<div>\n",
       "<style scoped>\n",
       "    .dataframe tbody tr th:only-of-type {\n",
       "        vertical-align: middle;\n",
       "    }\n",
       "\n",
       "    .dataframe tbody tr th {\n",
       "        vertical-align: top;\n",
       "    }\n",
       "\n",
       "    .dataframe thead th {\n",
       "        text-align: right;\n",
       "    }\n",
       "</style>\n",
       "<table border=\"1\" class=\"dataframe\">\n",
       "  <thead>\n",
       "    <tr style=\"text-align: right;\">\n",
       "      <th></th>\n",
       "      <th>date</th>\n",
       "      <th>open</th>\n",
       "      <th>high</th>\n",
       "      <th>low</th>\n",
       "      <th>close</th>\n",
       "      <th>volume</th>\n",
       "      <th>day</th>\n",
       "      <th>year</th>\n",
       "      <th>month</th>\n",
       "      <th>hour</th>\n",
       "      <th>minute</th>\n",
       "    </tr>\n",
       "  </thead>\n",
       "  <tbody>\n",
       "    <tr>\n",
       "      <th>19294</th>\n",
       "      <td>2023-08-22 19:50:00</td>\n",
       "      <td>129.14</td>\n",
       "      <td>129.140</td>\n",
       "      <td>129.10</td>\n",
       "      <td>129.10</td>\n",
       "      <td>13.0</td>\n",
       "      <td>22</td>\n",
       "      <td>2023</td>\n",
       "      <td>8</td>\n",
       "      <td>19</td>\n",
       "      <td>50</td>\n",
       "    </tr>\n",
       "    <tr>\n",
       "      <th>19295</th>\n",
       "      <td>2023-08-22 19:51:00</td>\n",
       "      <td>129.10</td>\n",
       "      <td>129.100</td>\n",
       "      <td>129.06</td>\n",
       "      <td>129.08</td>\n",
       "      <td>336.0</td>\n",
       "      <td>22</td>\n",
       "      <td>2023</td>\n",
       "      <td>8</td>\n",
       "      <td>19</td>\n",
       "      <td>51</td>\n",
       "    </tr>\n",
       "    <tr>\n",
       "      <th>19296</th>\n",
       "      <td>2023-08-22 19:52:00</td>\n",
       "      <td>129.08</td>\n",
       "      <td>129.120</td>\n",
       "      <td>129.08</td>\n",
       "      <td>129.10</td>\n",
       "      <td>38.0</td>\n",
       "      <td>22</td>\n",
       "      <td>2023</td>\n",
       "      <td>8</td>\n",
       "      <td>19</td>\n",
       "      <td>52</td>\n",
       "    </tr>\n",
       "    <tr>\n",
       "      <th>19297</th>\n",
       "      <td>2023-08-22 19:53:00</td>\n",
       "      <td>129.10</td>\n",
       "      <td>129.175</td>\n",
       "      <td>129.06</td>\n",
       "      <td>129.08</td>\n",
       "      <td>217.0</td>\n",
       "      <td>22</td>\n",
       "      <td>2023</td>\n",
       "      <td>8</td>\n",
       "      <td>19</td>\n",
       "      <td>53</td>\n",
       "    </tr>\n",
       "    <tr>\n",
       "      <th>19298</th>\n",
       "      <td>2023-08-22 19:54:00</td>\n",
       "      <td>129.04</td>\n",
       "      <td>129.040</td>\n",
       "      <td>129.04</td>\n",
       "      <td>129.04</td>\n",
       "      <td>1.0</td>\n",
       "      <td>22</td>\n",
       "      <td>2023</td>\n",
       "      <td>8</td>\n",
       "      <td>19</td>\n",
       "      <td>54</td>\n",
       "    </tr>\n",
       "    <tr>\n",
       "      <th>19299</th>\n",
       "      <td>2023-08-22 19:55:00</td>\n",
       "      <td>129.04</td>\n",
       "      <td>129.040</td>\n",
       "      <td>129.00</td>\n",
       "      <td>129.00</td>\n",
       "      <td>85.0</td>\n",
       "      <td>22</td>\n",
       "      <td>2023</td>\n",
       "      <td>8</td>\n",
       "      <td>19</td>\n",
       "      <td>55</td>\n",
       "    </tr>\n",
       "    <tr>\n",
       "      <th>19300</th>\n",
       "      <td>2023-08-22 19:56:00</td>\n",
       "      <td>129.00</td>\n",
       "      <td>129.070</td>\n",
       "      <td>129.00</td>\n",
       "      <td>129.01</td>\n",
       "      <td>322.0</td>\n",
       "      <td>22</td>\n",
       "      <td>2023</td>\n",
       "      <td>8</td>\n",
       "      <td>19</td>\n",
       "      <td>56</td>\n",
       "    </tr>\n",
       "    <tr>\n",
       "      <th>19301</th>\n",
       "      <td>2023-08-22 19:57:00</td>\n",
       "      <td>129.05</td>\n",
       "      <td>129.080</td>\n",
       "      <td>128.92</td>\n",
       "      <td>128.97</td>\n",
       "      <td>573.0</td>\n",
       "      <td>22</td>\n",
       "      <td>2023</td>\n",
       "      <td>8</td>\n",
       "      <td>19</td>\n",
       "      <td>57</td>\n",
       "    </tr>\n",
       "    <tr>\n",
       "      <th>19302</th>\n",
       "      <td>2023-08-22 19:58:00</td>\n",
       "      <td>128.97</td>\n",
       "      <td>128.970</td>\n",
       "      <td>128.92</td>\n",
       "      <td>128.92</td>\n",
       "      <td>52.0</td>\n",
       "      <td>22</td>\n",
       "      <td>2023</td>\n",
       "      <td>8</td>\n",
       "      <td>19</td>\n",
       "      <td>58</td>\n",
       "    </tr>\n",
       "    <tr>\n",
       "      <th>19303</th>\n",
       "      <td>2023-08-22 19:59:00</td>\n",
       "      <td>129.02</td>\n",
       "      <td>129.040</td>\n",
       "      <td>128.90</td>\n",
       "      <td>128.92</td>\n",
       "      <td>18.0</td>\n",
       "      <td>22</td>\n",
       "      <td>2023</td>\n",
       "      <td>8</td>\n",
       "      <td>19</td>\n",
       "      <td>59</td>\n",
       "    </tr>\n",
       "  </tbody>\n",
       "</table>\n",
       "</div>"
      ],
      "text/plain": [
       "                     date    open     high     low   close  volume  day  year  \\\n",
       "19294 2023-08-22 19:50:00  129.14  129.140  129.10  129.10    13.0   22  2023   \n",
       "19295 2023-08-22 19:51:00  129.10  129.100  129.06  129.08   336.0   22  2023   \n",
       "19296 2023-08-22 19:52:00  129.08  129.120  129.08  129.10    38.0   22  2023   \n",
       "19297 2023-08-22 19:53:00  129.10  129.175  129.06  129.08   217.0   22  2023   \n",
       "19298 2023-08-22 19:54:00  129.04  129.040  129.04  129.04     1.0   22  2023   \n",
       "19299 2023-08-22 19:55:00  129.04  129.040  129.00  129.00    85.0   22  2023   \n",
       "19300 2023-08-22 19:56:00  129.00  129.070  129.00  129.01   322.0   22  2023   \n",
       "19301 2023-08-22 19:57:00  129.05  129.080  128.92  128.97   573.0   22  2023   \n",
       "19302 2023-08-22 19:58:00  128.97  128.970  128.92  128.92    52.0   22  2023   \n",
       "19303 2023-08-22 19:59:00  129.02  129.040  128.90  128.92    18.0   22  2023   \n",
       "\n",
       "       month  hour  minute  \n",
       "19294      8    19      50  \n",
       "19295      8    19      51  \n",
       "19296      8    19      52  \n",
       "19297      8    19      53  \n",
       "19298      8    19      54  \n",
       "19299      8    19      55  \n",
       "19300      8    19      56  \n",
       "19301      8    19      57  \n",
       "19302      8    19      58  \n",
       "19303      8    19      59  "
      ]
     },
     "execution_count": 42,
     "metadata": {},
     "output_type": "execute_result"
    }
   ],
   "source": [
    "data.tail(10)"
   ]
  },
  {
   "cell_type": "code",
   "execution_count": null,
   "id": "31a32b73",
   "metadata": {},
   "outputs": [],
   "source": []
  }
 ],
 "metadata": {
  "kernelspec": {
   "display_name": "Python 3 (ipykernel)",
   "language": "python",
   "name": "python3"
  },
  "language_info": {
   "codemirror_mode": {
    "name": "ipython",
    "version": 3
   },
   "file_extension": ".py",
   "mimetype": "text/x-python",
   "name": "python",
   "nbconvert_exporter": "python",
   "pygments_lexer": "ipython3",
   "version": "3.9.13"
  }
 },
 "nbformat": 4,
 "nbformat_minor": 5
}
