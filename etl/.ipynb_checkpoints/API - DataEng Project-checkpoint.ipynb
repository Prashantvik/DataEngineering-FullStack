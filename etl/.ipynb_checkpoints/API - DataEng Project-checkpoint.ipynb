{
 "cells": [
  {
   "cell_type": "code",
   "execution_count": 31,
   "id": "4fcebf06",
   "metadata": {},
   "outputs": [],
   "source": [
    "# pip install alpha_vantage"
   ]
  },
  {
   "cell_type": "code",
   "execution_count": 44,
   "id": "d81fc4bc",
   "metadata": {
    "scrolled": true
   },
   "outputs": [],
   "source": [
    "import requests\n",
    "key = \"4TDQ3TAK1A574B32\"\n",
    "zz\n",
    "# replace the \"demo\" apikey below with your own key from https://www.alphavantage.co/support/#api-key\n",
    "# url = 'https://www.alphavantage.co/query?function=TIME_SERIES_INTRADAY&symbol=IBM&interval=5min&apikey=4TDQ3TAK1A574B32'\n",
    "# r = requests.get(url)\n",
    "# data = r.json()\n",
    "\n",
    "# print(len(data))"
   ]
  },
  {
   "cell_type": "code",
   "execution_count": 45,
   "id": "8bb36a61",
   "metadata": {},
   "outputs": [],
   "source": [
    "from alpha_vantage.timeseries import TimeSeries\n",
    "ts = TimeSeries(key, output_format='pandas')\n",
    "\n",
    "# Get json object with the intraday data and another with  the call's metadata\n",
    "data, meta_data = ts.get_intraday('GOOGL')"
   ]
  },
  {
   "cell_type": "code",
   "execution_count": 46,
   "id": "a4aaf4b7",
   "metadata": {},
   "outputs": [
    {
     "data": {
      "text/plain": [
       "<bound method DataFrame.info of                      1. open  2. high  3. low  4. close  5. volume\n",
       "date                                                              \n",
       "2023-08-18 19:45:00  127.460  127.630  127.46   127.550     3238.0\n",
       "2023-08-18 19:30:00  127.410  127.510  127.36   127.460     1880.0\n",
       "2023-08-18 19:15:00  127.360  127.480  127.36   127.400      402.0\n",
       "2023-08-18 19:00:00  127.410  127.480  127.33   127.480      932.0\n",
       "2023-08-18 18:45:00  127.435  127.490  127.41   127.480     2951.0\n",
       "...                      ...      ...     ...       ...        ...\n",
       "2023-08-17 12:00:00  131.210  131.355  130.88   131.280   839590.0\n",
       "2023-08-17 11:45:00  130.950  131.300  130.71   131.200  1021825.0\n",
       "2023-08-17 11:30:00  130.720  130.950  130.45   130.950   771563.0\n",
       "2023-08-17 11:15:00  130.380  131.230  130.37   130.740  1170731.0\n",
       "2023-08-17 11:00:00  130.310  130.730  130.27   130.385   966978.0\n",
       "\n",
       "[100 rows x 5 columns]>"
      ]
     },
     "execution_count": 46,
     "metadata": {},
     "output_type": "execute_result"
    }
   ],
   "source": [
    "data.info"
   ]
  },
  {
   "cell_type": "code",
   "execution_count": 47,
   "id": "12f6a287",
   "metadata": {
    "scrolled": true
   },
   "outputs": [],
   "source": [
    "#Every minute of data\n",
    "data1, meta_data1 = ts.get_intraday(symbol='GOOGL',interval='1min', outputsize='full')"
   ]
  },
  {
   "cell_type": "code",
   "execution_count": 48,
   "id": "eb19cda9",
   "metadata": {},
   "outputs": [
    {
     "data": {
      "text/html": [
       "<div>\n",
       "<style scoped>\n",
       "    .dataframe tbody tr th:only-of-type {\n",
       "        vertical-align: middle;\n",
       "    }\n",
       "\n",
       "    .dataframe tbody tr th {\n",
       "        vertical-align: top;\n",
       "    }\n",
       "\n",
       "    .dataframe thead th {\n",
       "        text-align: right;\n",
       "    }\n",
       "</style>\n",
       "<table border=\"1\" class=\"dataframe\">\n",
       "  <thead>\n",
       "    <tr style=\"text-align: right;\">\n",
       "      <th></th>\n",
       "      <th>1. open</th>\n",
       "      <th>2. high</th>\n",
       "      <th>3. low</th>\n",
       "      <th>4. close</th>\n",
       "      <th>5. volume</th>\n",
       "    </tr>\n",
       "    <tr>\n",
       "      <th>date</th>\n",
       "      <th></th>\n",
       "      <th></th>\n",
       "      <th></th>\n",
       "      <th></th>\n",
       "      <th></th>\n",
       "    </tr>\n",
       "  </thead>\n",
       "  <tbody>\n",
       "    <tr>\n",
       "      <th>2023-08-18 19:59:00</th>\n",
       "      <td>127.500</td>\n",
       "      <td>127.630</td>\n",
       "      <td>127.500</td>\n",
       "      <td>127.550</td>\n",
       "      <td>331.0</td>\n",
       "    </tr>\n",
       "    <tr>\n",
       "      <th>2023-08-18 19:58:00</th>\n",
       "      <td>127.530</td>\n",
       "      <td>127.555</td>\n",
       "      <td>127.505</td>\n",
       "      <td>127.555</td>\n",
       "      <td>412.0</td>\n",
       "    </tr>\n",
       "    <tr>\n",
       "      <th>2023-08-18 19:57:00</th>\n",
       "      <td>127.630</td>\n",
       "      <td>127.630</td>\n",
       "      <td>127.520</td>\n",
       "      <td>127.570</td>\n",
       "      <td>175.0</td>\n",
       "    </tr>\n",
       "    <tr>\n",
       "      <th>2023-08-18 19:56:00</th>\n",
       "      <td>127.600</td>\n",
       "      <td>127.600</td>\n",
       "      <td>127.540</td>\n",
       "      <td>127.540</td>\n",
       "      <td>2.0</td>\n",
       "    </tr>\n",
       "    <tr>\n",
       "      <th>2023-08-18 19:55:00</th>\n",
       "      <td>127.545</td>\n",
       "      <td>127.630</td>\n",
       "      <td>127.500</td>\n",
       "      <td>127.500</td>\n",
       "      <td>129.0</td>\n",
       "    </tr>\n",
       "    <tr>\n",
       "      <th>...</th>\n",
       "      <td>...</td>\n",
       "      <td>...</td>\n",
       "      <td>...</td>\n",
       "      <td>...</td>\n",
       "      <td>...</td>\n",
       "    </tr>\n",
       "    <tr>\n",
       "      <th>2023-07-21 04:04:00</th>\n",
       "      <td>120.240</td>\n",
       "      <td>120.240</td>\n",
       "      <td>120.240</td>\n",
       "      <td>120.240</td>\n",
       "      <td>90.0</td>\n",
       "    </tr>\n",
       "    <tr>\n",
       "      <th>2023-07-21 04:03:00</th>\n",
       "      <td>120.230</td>\n",
       "      <td>120.240</td>\n",
       "      <td>120.040</td>\n",
       "      <td>120.040</td>\n",
       "      <td>65.0</td>\n",
       "    </tr>\n",
       "    <tr>\n",
       "      <th>2023-07-21 04:02:00</th>\n",
       "      <td>120.260</td>\n",
       "      <td>120.260</td>\n",
       "      <td>120.030</td>\n",
       "      <td>120.240</td>\n",
       "      <td>38.0</td>\n",
       "    </tr>\n",
       "    <tr>\n",
       "      <th>2023-07-21 04:01:00</th>\n",
       "      <td>120.270</td>\n",
       "      <td>120.470</td>\n",
       "      <td>119.920</td>\n",
       "      <td>119.920</td>\n",
       "      <td>11058.0</td>\n",
       "    </tr>\n",
       "    <tr>\n",
       "      <th>2023-07-21 04:00:00</th>\n",
       "      <td>120.240</td>\n",
       "      <td>120.270</td>\n",
       "      <td>119.970</td>\n",
       "      <td>120.150</td>\n",
       "      <td>403.0</td>\n",
       "    </tr>\n",
       "  </tbody>\n",
       "</table>\n",
       "<p>19358 rows × 5 columns</p>\n",
       "</div>"
      ],
      "text/plain": [
       "                     1. open  2. high   3. low  4. close  5. volume\n",
       "date                                                               \n",
       "2023-08-18 19:59:00  127.500  127.630  127.500   127.550      331.0\n",
       "2023-08-18 19:58:00  127.530  127.555  127.505   127.555      412.0\n",
       "2023-08-18 19:57:00  127.630  127.630  127.520   127.570      175.0\n",
       "2023-08-18 19:56:00  127.600  127.600  127.540   127.540        2.0\n",
       "2023-08-18 19:55:00  127.545  127.630  127.500   127.500      129.0\n",
       "...                      ...      ...      ...       ...        ...\n",
       "2023-07-21 04:04:00  120.240  120.240  120.240   120.240       90.0\n",
       "2023-07-21 04:03:00  120.230  120.240  120.040   120.040       65.0\n",
       "2023-07-21 04:02:00  120.260  120.260  120.030   120.240       38.0\n",
       "2023-07-21 04:01:00  120.270  120.470  119.920   119.920    11058.0\n",
       "2023-07-21 04:00:00  120.240  120.270  119.970   120.150      403.0\n",
       "\n",
       "[19358 rows x 5 columns]"
      ]
     },
     "execution_count": 48,
     "metadata": {},
     "output_type": "execute_result"
    }
   ],
   "source": [
    "data1"
   ]
  },
  {
   "cell_type": "code",
   "execution_count": 49,
   "id": "e4891d25",
   "metadata": {},
   "outputs": [],
   "source": [
    "import pandas as pd"
   ]
  },
  {
   "cell_type": "code",
   "execution_count": 61,
   "id": "5a6af80b",
   "metadata": {},
   "outputs": [
    {
     "data": {
      "text/plain": [
       "{'1. Information': 'Intraday (15min) open, high, low, close prices and volume',\n",
       " '2. Symbol': 'GOOGL',\n",
       " '3. Last Refreshed': '2023-08-18 19:45:00',\n",
       " '4. Interval': '15min',\n",
       " '5. Output Size': 'Compact',\n",
       " '6. Time Zone': 'US/Eastern'}"
      ]
     },
     "execution_count": 61,
     "metadata": {},
     "output_type": "execute_result"
    }
   ],
   "source": [
    "meta_data"
   ]
  },
  {
   "cell_type": "code",
   "execution_count": 62,
   "id": "71934f57",
   "metadata": {},
   "outputs": [],
   "source": [
    "# Extract metadata\n",
    "meta_data\n",
    "metadata_df = pd.DataFrame.from_dict(meta_data, orient='index', columns=['Value'])"
   ]
  },
  {
   "cell_type": "code",
   "execution_count": 63,
   "id": "30caf10d",
   "metadata": {},
   "outputs": [
    {
     "data": {
      "text/html": [
       "<div>\n",
       "<style scoped>\n",
       "    .dataframe tbody tr th:only-of-type {\n",
       "        vertical-align: middle;\n",
       "    }\n",
       "\n",
       "    .dataframe tbody tr th {\n",
       "        vertical-align: top;\n",
       "    }\n",
       "\n",
       "    .dataframe thead th {\n",
       "        text-align: right;\n",
       "    }\n",
       "</style>\n",
       "<table border=\"1\" class=\"dataframe\">\n",
       "  <thead>\n",
       "    <tr style=\"text-align: right;\">\n",
       "      <th></th>\n",
       "      <th>Value</th>\n",
       "    </tr>\n",
       "  </thead>\n",
       "  <tbody>\n",
       "    <tr>\n",
       "      <th>1. Information</th>\n",
       "      <td>Intraday (15min) open, high, low, close prices...</td>\n",
       "    </tr>\n",
       "    <tr>\n",
       "      <th>2. Symbol</th>\n",
       "      <td>GOOGL</td>\n",
       "    </tr>\n",
       "    <tr>\n",
       "      <th>3. Last Refreshed</th>\n",
       "      <td>2023-08-18 19:45:00</td>\n",
       "    </tr>\n",
       "    <tr>\n",
       "      <th>4. Interval</th>\n",
       "      <td>15min</td>\n",
       "    </tr>\n",
       "    <tr>\n",
       "      <th>5. Output Size</th>\n",
       "      <td>Compact</td>\n",
       "    </tr>\n",
       "    <tr>\n",
       "      <th>6. Time Zone</th>\n",
       "      <td>US/Eastern</td>\n",
       "    </tr>\n",
       "  </tbody>\n",
       "</table>\n",
       "</div>"
      ],
      "text/plain": [
       "                                                               Value\n",
       "1. Information     Intraday (15min) open, high, low, close prices...\n",
       "2. Symbol                                                      GOOGL\n",
       "3. Last Refreshed                                2023-08-18 19:45:00\n",
       "4. Interval                                                    15min\n",
       "5. Output Size                                               Compact\n",
       "6. Time Zone                                              US/Eastern"
      ]
     },
     "execution_count": 63,
     "metadata": {},
     "output_type": "execute_result"
    }
   ],
   "source": [
    "metadata_df"
   ]
  },
  {
   "cell_type": "code",
   "execution_count": 66,
   "id": "2176d63a",
   "metadata": {},
   "outputs": [
    {
     "name": "stdout",
     "output_type": "stream",
     "text": [
      "Metadata DataFrame:\n",
      "                                                               Value\n",
      "1. Information     Intraday (15min) open, high, low, close prices...\n",
      "2. Symbol                                                      GOOGL\n",
      "3. Last Refreshed                                2023-08-18 19:45:00\n",
      "4. Interval                                                    15min\n",
      "5. Output Size                                               Compact\n",
      "6. Time Zone                                              US/Eastern\n"
     ]
    }
   ],
   "source": [
    "# Convert columns to appropriate data types\n",
    "numeric_columns = ['1. open', '2. high', '3. low', '4. close', '5. volume']\n",
    "time_series_df[numeric_columns] = time_series_df[numeric_columns].apply(pd.to_numeric)\n",
    "\n",
    "# Print the DataFrames\n",
    "print(\"Metadata DataFrame:\")\n",
    "print(metadata_df)\n"
   ]
  },
  {
   "cell_type": "code",
   "execution_count": 67,
   "id": "676864d7",
   "metadata": {},
   "outputs": [],
   "source": [
    "cols = [\"open\", \"high\", \"low\", \"close\", \"volume\"]\n",
    "\n",
    "time_series_df.columns = cols "
   ]
  },
  {
   "cell_type": "code",
   "execution_count": 68,
   "id": "a316c9ce",
   "metadata": {},
   "outputs": [
    {
     "name": "stdout",
     "output_type": "stream",
     "text": [
      "\n",
      "Time Series DataFrame:\n",
      "                       open     high     low    close  volume\n",
      "Timestamp                                                    \n",
      "2023-08-18 19:55:00  141.48  141.500  141.48  141.500      94\n",
      "2023-08-18 19:40:00  141.30  141.300  141.30  141.300       7\n",
      "2023-08-18 19:30:00  141.41  141.410  141.41  141.410       9\n",
      "2023-08-18 19:20:00  141.41  141.410  141.41  141.410       6\n",
      "2023-08-18 19:15:00  141.28  141.280  141.28  141.280       7\n",
      "...                     ...      ...     ...      ...     ...\n",
      "2023-08-18 10:30:00  140.34  140.540  140.31  140.480   37128\n",
      "2023-08-18 10:25:00  140.63  140.640  140.32  140.360   44506\n",
      "2023-08-18 10:20:00  140.56  140.680  140.56  140.640   29379\n",
      "2023-08-18 10:15:00  140.63  140.670  140.52  140.600   32233\n",
      "2023-08-18 10:10:00  140.65  140.705  140.54  140.631   36215\n",
      "\n",
      "[100 rows x 5 columns]\n"
     ]
    }
   ],
   "source": [
    "# Print the DataFrames\n",
    "print(\"\\nTime Series DataFrame:\")\n",
    "print(time_series_df)"
   ]
  },
  {
   "cell_type": "code",
   "execution_count": 69,
   "id": "cb948705",
   "metadata": {},
   "outputs": [
    {
     "data": {
      "text/plain": [
       "(6, 1)"
      ]
     },
     "execution_count": 69,
     "metadata": {},
     "output_type": "execute_result"
    }
   ],
   "source": [
    "metadata_df.shape"
   ]
  },
  {
   "cell_type": "code",
   "execution_count": 70,
   "id": "4599a563",
   "metadata": {},
   "outputs": [
    {
     "data": {
      "text/plain": [
       "(100, 5)"
      ]
     },
     "execution_count": 70,
     "metadata": {},
     "output_type": "execute_result"
    }
   ],
   "source": [
    "time_series_df.shape"
   ]
  },
  {
   "cell_type": "code",
   "execution_count": 72,
   "id": "7eb03ac5",
   "metadata": {},
   "outputs": [
    {
     "data": {
      "text/plain": [
       "<bound method DataFrame.info of                      1. open  2. high  3. low  4. close  5. volume\n",
       "date                                                              \n",
       "2023-08-18 19:45:00  127.460  127.630  127.46   127.550     3238.0\n",
       "2023-08-18 19:30:00  127.410  127.510  127.36   127.460     1880.0\n",
       "2023-08-18 19:15:00  127.360  127.480  127.36   127.400      402.0\n",
       "2023-08-18 19:00:00  127.410  127.480  127.33   127.480      932.0\n",
       "2023-08-18 18:45:00  127.435  127.490  127.41   127.480     2951.0\n",
       "...                      ...      ...     ...       ...        ...\n",
       "2023-08-17 12:00:00  131.210  131.355  130.88   131.280   839590.0\n",
       "2023-08-17 11:45:00  130.950  131.300  130.71   131.200  1021825.0\n",
       "2023-08-17 11:30:00  130.720  130.950  130.45   130.950   771563.0\n",
       "2023-08-17 11:15:00  130.380  131.230  130.37   130.740  1170731.0\n",
       "2023-08-17 11:00:00  130.310  130.730  130.27   130.385   966978.0\n",
       "\n",
       "[100 rows x 5 columns]>"
      ]
     },
     "execution_count": 72,
     "metadata": {},
     "output_type": "execute_result"
    }
   ],
   "source": [
    "data.info"
   ]
  },
  {
   "cell_type": "code",
   "execution_count": 73,
   "id": "b37cbfb1",
   "metadata": {},
   "outputs": [
    {
     "name": "stdout",
     "output_type": "stream",
     "text": [
      "<class 'pandas.core.frame.DataFrame'>\n",
      "DatetimeIndex: 19358 entries, 2023-08-18 19:59:00 to 2023-07-21 04:00:00\n",
      "Data columns (total 5 columns):\n",
      " #   Column     Non-Null Count  Dtype  \n",
      "---  ------     --------------  -----  \n",
      " 0   1. open    19358 non-null  float64\n",
      " 1   2. high    19358 non-null  float64\n",
      " 2   3. low     19358 non-null  float64\n",
      " 3   4. close   19358 non-null  float64\n",
      " 4   5. volume  19358 non-null  float64\n",
      "dtypes: float64(5)\n",
      "memory usage: 907.4 KB\n"
     ]
    }
   ],
   "source": [
    "data1.info()"
   ]
  },
  {
   "cell_type": "code",
   "execution_count": 74,
   "id": "bb73f525",
   "metadata": {},
   "outputs": [
    {
     "data": {
      "text/plain": [
       "(19358, 5)"
      ]
     },
     "execution_count": 74,
     "metadata": {},
     "output_type": "execute_result"
    }
   ],
   "source": [
    "data1.shape"
   ]
  },
  {
   "cell_type": "code",
   "execution_count": null,
   "id": "03a455e2",
   "metadata": {},
   "outputs": [],
   "source": []
  },
  {
   "cell_type": "code",
   "execution_count": null,
   "id": "42b08fb9",
   "metadata": {},
   "outputs": [],
   "source": []
  }
 ],
 "metadata": {
  "kernelspec": {
   "display_name": "Python 3 (ipykernel)",
   "language": "python",
   "name": "python3"
  },
  "language_info": {
   "codemirror_mode": {
    "name": "ipython",
    "version": 3
   },
   "file_extension": ".py",
   "mimetype": "text/x-python",
   "name": "python",
   "nbconvert_exporter": "python",
   "pygments_lexer": "ipython3",
   "version": "3.9.13"
  }
 },
 "nbformat": 4,
 "nbformat_minor": 5
}
